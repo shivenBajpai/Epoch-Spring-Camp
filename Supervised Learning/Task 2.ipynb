{
 "cells": [
  {
   "cell_type": "markdown",
   "id": "44e940b6",
   "metadata": {},
   "source": [
    "# KNN Implemented From Scratch\n",
    "\n",
    "Code is free of any AI-generation, is completely organic, GMO-Free, Pesticide free and has no added preservatives"
   ]
  },
  {
   "cell_type": "code",
   "execution_count": null,
   "id": "054e3af8",
   "metadata": {},
   "outputs": [],
   "source": [
    "import numpy as np\n",
    "import matplotlib.pyplot as plt"
   ]
  },
  {
   "cell_type": "code",
   "execution_count": 562,
   "id": "7ddb2a49",
   "metadata": {},
   "outputs": [],
   "source": [
    "N_CLASSES = 3\n",
    "\n",
    "raw_data = [\n",
    "    [150, 7.0, 1, 'Apple'],\n",
    "    [120, 6.5, 0, 'Banana'],\n",
    "    [180, 7.5, 2, 'Orange'],\n",
    "    [155, 7.2, 1, 'Apple'],\n",
    "    [110, 6.0, 0, 'Banana'],\n",
    "    [190, 7.8, 2, 'Orange'],\n",
    "    [145, 7.1, 1, 'Apple'],\n",
    "    [115, 6.3, 0, 'Banana']\n",
    "]"
   ]
  },
  {
   "cell_type": "markdown",
   "id": "c055d7be",
   "metadata": {},
   "source": [
    "I choose to encode my training labels as one-hot because that makes it easier to calculate the label of test point by taking mode of its neighbours' labels (You can just sum up the labels of the k nearest neighbours and find the index with maximum value)."
   ]
  },
  {
   "cell_type": "code",
   "execution_count": 563,
   "id": "53dad647",
   "metadata": {},
   "outputs": [],
   "source": [
    "# Functions for one hot encoding/decoding\n",
    "\n",
    "# Takes a label and returns one hot encoding in a tuple\n",
    "def encode_one_hot(label):\n",
    "    match label:\n",
    "        case 'Apple': return [1, 0, 0]\n",
    "        case 'Banana': return [0, 1, 0]\n",
    "        case 'Orange': return [0, 0, 1]\n",
    "        case _: return [0,0,0]\n",
    "\n",
    "# Takes an integer and returns a label\n",
    "def decode_class_index(class_index):\n",
    "    match class_index:\n",
    "        case 0: return 'Apple'\n",
    "        case 1: return 'Banana'\n",
    "        case 2: return 'Orange'\n",
    "        case _: return \"Unknown\"\n",
    "\n",
    "# Functions for calculating distances. \n",
    "# Takes in mxk and nxk input and returns an mxn matrix of distances, kind of like a proximity matrix\n",
    "def minkowski_distance(a, b, p):\n",
    "\n",
    "    a = a[:, np.newaxis, :]\n",
    "    b = b[np.newaxis, :, :]\n",
    "\n",
    "    return (abs(a-b)**p).sum(axis=2)**(1/p)\n",
    "\n",
    "# Just special cases of Minkowski\n",
    "def euclidean_dist(a, b):\n",
    "    return minkowski_distance(a, b, 2)\n",
    "\n",
    "def manhattan_dist(a, b):\n",
    "    return minkowski_distance(a, b, 1)\n",
    "\n",
    "# Accuracy function. Works for both, string labels and one-hot encoded labels.\n",
    "def accuracy(predicted_label, true_label):\n",
    "    if len(true_label.shape) == 1:\n",
    "        return (predicted_label==true_label).sum()/true_label.shape[0]\n",
    "    else:\n",
    "        return (predicted_label==true_label).all(axis=1).sum()/true_label.shape[0]"
   ]
  },
  {
   "cell_type": "code",
   "execution_count": 564,
   "id": "51ed6253",
   "metadata": {},
   "outputs": [],
   "source": [
    "# Data pre-processing (one-hot encoding the labels)\n",
    "encoded_data = np.array(\n",
    "    tuple((*data[:-1], *encode_one_hot(data[-1])) for data in raw_data)\n",
    ")\n",
    "\n",
    "# Splitting the features and the labels\n",
    "X = encoded_data[:, :-3]\n",
    "Y = encoded_data[:, -3:]"
   ]
  },
  {
   "cell_type": "markdown",
   "id": "e11b81ff",
   "metadata": {},
   "source": [
    "# Base Task\n",
    "\n",
    "First, I have a simple implementation of KNN that only accomplishes what the base task asked for with no extra bells and whistles."
   ]
  },
  {
   "cell_type": "code",
   "execution_count": null,
   "id": "d0a5d0a2",
   "metadata": {},
   "outputs": [],
   "source": [
    "# KNN Class definition\n",
    "class KNN:\n",
    "    def __init__(self, k):\n",
    "        self.k = k\n",
    "\n",
    "    def fit(self, X, y):\n",
    "        self.data = {\"X\": X, \"y\": y}\n",
    "\n",
    "    def predict(self, X_test):\n",
    "        # Calculate all the distances between every test and every training point at once.\n",
    "        distances = euclidean_dist(X_test, self.data[\"X\"])        \n",
    "\n",
    "        # For every test point, Find the indices of K nearest neighbours in training set\n",
    "        sorted_indices = np.argsort(distances, axis=1)[:, :self.k]  \n",
    "        \n",
    "        # Find the labels of the neighbours found in the previous step\n",
    "        voters = self.data[\"y\"][sorted_indices]                     \n",
    "\n",
    "        # For every test point, Add up all the labels to essentially count votes for each possible label\n",
    "        votes = voters.sum(axis=1)                                  \n",
    "\n",
    "        # Mode of labels of K-nearest neighbours is just the one with max votes\n",
    "        winners = np.argmax(votes, axis=1)                          \n",
    "\n",
    "        # Decode all the class indices into strings\n",
    "        predictions = [decode_class_index(winner) for winner in winners] \n",
    "\n",
    "        return predictions"
   ]
  },
  {
   "cell_type": "code",
   "execution_count": 566,
   "id": "ca1da80e",
   "metadata": {},
   "outputs": [
    {
     "name": "stdout",
     "output_type": "stream",
     "text": [
      "['Banana', 'Apple', 'Orange']\n",
      "accuracy: 1.0\n"
     ]
    }
   ],
   "source": [
    "test_data = np.array([\n",
    "    [118, 6.2, 0],  # Expected: Banana\n",
    "    [160, 7.3, 1],  # Expected: Apple\n",
    "    [185, 7.7, 2]   # Expected: Orange\n",
    "])\n",
    "\n",
    "true_labels = np.array([\n",
    "    \"Banana\",\n",
    "    \"Apple\",\n",
    "    \"Orange\"\n",
    "])\n",
    "\n",
    "model = KNN(k=3)\n",
    "model.fit(X,Y)\n",
    "predicted_label = model.predict(test_data)\n",
    "print(predicted_label)\n",
    "print(\"accuracy:\", accuracy(predicted_label, true_label=true_labels))"
   ]
  },
  {
   "cell_type": "markdown",
   "id": "f34bf995",
   "metadata": {},
   "source": [
    "# Testing different strategies. (Bonus Tasks)\n",
    "\n",
    "We'll initialize different instances of the KNN with different strategies, and then compare their accuracy on an 80-20 split of the dataset over a range of values of K.\n",
    "\n",
    "For this we'll define a better implementation of the KNN classifier with more options such as different distance metrics, weighted kNNs etc. \n",
    "Additionally we'll define a helper function to test the accuracy of a model\n",
    "\n",
    "Note that I removed the color information because it had a 1 to 1 correspondance with the label and was causing all models to perform equally"
   ]
  },
  {
   "cell_type": "code",
   "execution_count": 567,
   "id": "901b0120",
   "metadata": {},
   "outputs": [],
   "source": [
    "class AdvancedKNN:\n",
    "    def __init__(self, k, distance=\"Euclidean\", weight=0, p=None):\n",
    "        self.k = k\n",
    "        self.weight = weight\n",
    "\n",
    "        if p is None:\n",
    "            match distance:\n",
    "                case 'Euclidean': self.p = 2\n",
    "                case 'Manhattan': self.p = 2\n",
    "                case _: raise Exception(\"Unknown distance type\")\n",
    "        else:\n",
    "            self.p = p\n",
    "\n",
    "    def fit(self, X, y):\n",
    "        self.data = {\"X\": X, \"y\": y}\n",
    "\n",
    "    def predict(self, X_test):\n",
    "        # Calculate all the distances between every test and every training point at once.\n",
    "        distances = minkowski_distance(X_test, self.data[\"X\"], p=self.p)\n",
    "    \n",
    "        # Find the index of K nearest neighbours in training set, for every test point\n",
    "        sorted_indices = np.argsort(distances, axis=1)[:, :self.k]  \n",
    "\n",
    "        # Find the labels of the neighbours found in the previous step\n",
    "        voters = self.data[\"y\"][sorted_indices].astype(np.float64)  \n",
    "        \n",
    "        # Calculate a weight for each voter by exponentiating the distance of that voter to the test point\n",
    "        voter_distances = distances[np.repeat(np.arange(distances.shape[0]), self.k), sorted_indices.flatten()].reshape(sorted_indices.shape)\n",
    "        weights = voter_distances**self.weight\n",
    "        voters = weights[..., np.newaxis] * voters # Apply the weights\n",
    "\n",
    "        # Add up all the labels to essentially count votes for each test point\n",
    "        votes = voters.sum(axis=1)                                  \n",
    "\n",
    "        # Mode of labels of K-nearest neighbours is just the max\n",
    "        winners = np.argmax(votes, axis=1)                          \n",
    "\n",
    "        # One hot encode the predicted labels again\n",
    "        predictions = np.zeros((X_test.shape[0], self.data[\"y\"].shape[1]))\n",
    "        for i, winner in enumerate(winners): predictions[i, winner] = 1\n",
    "\n",
    "        return predictions"
   ]
  },
  {
   "cell_type": "code",
   "execution_count": 568,
   "id": "41905e10",
   "metadata": {},
   "outputs": [],
   "source": [
    "def train_test_split(X, y, train_size=None, test_size=None, shuffle=True, random_state=42):\n",
    "    if test_size is None:\n",
    "        if train_size is None:\n",
    "            train_size = 0.8\n",
    "    else:\n",
    "        train_size = 1-test_size\n",
    "\n",
    "    indices = np.arange(X.shape[0])\n",
    "    cutoff_index = int(train_size * X.shape[0])\n",
    "\n",
    "    if shuffle: \n",
    "        np.random.seed(random_state)\n",
    "        np.random.shuffle(indices)\n",
    "\n",
    "    return X[indices[:cutoff_index]], X[indices[cutoff_index:]], y[indices[:cutoff_index]], y[indices[cutoff_index:]]"
   ]
  },
  {
   "cell_type": "code",
   "execution_count": 569,
   "id": "330798dc",
   "metadata": {},
   "outputs": [],
   "source": [
    "# New raw dataset from combining the given training and testing dataset\n",
    "data = np.array([\n",
    "    [150, 7.0, 1],\n",
    "    [120, 6.5, 0],\n",
    "    [180, 7.5, 2],\n",
    "    [155, 7.2, 1],\n",
    "    [110, 6.0, 0],\n",
    "    [190, 7.8, 2],\n",
    "    [145, 7.1, 1],\n",
    "    [115, 6.3, 0],\n",
    "    [118, 6.2, 0],  \n",
    "    [160, 7.3, 1],  \n",
    "    [185, 7.7, 2]   \n",
    "])\n",
    "\n",
    "true_label = np.array([encode_one_hot(label) for label in [\n",
    "    'Apple',\n",
    "    'Banana',\n",
    "    'Orange',\n",
    "    'Apple',\n",
    "    'Banana',\n",
    "    'Orange',\n",
    "    'Apple',\n",
    "    'Banana',\n",
    "    \"Banana\",\n",
    "    \"Apple\",\n",
    "    \"Orange\",\n",
    "]])\n",
    "\n",
    "X_train, X_test, Y_train, Y_test = train_test_split(data[:-1], true_label, train_size=0.8, shuffle=True, random_state=42)"
   ]
  },
  {
   "cell_type": "code",
   "execution_count": 570,
   "id": "7a3d52f2",
   "metadata": {},
   "outputs": [],
   "source": [
    "# Tests the given model's accuracy at different values of k\n",
    "def Test(model, k_start=2, k_end=5):\n",
    "    score = []\n",
    "\n",
    "    for k in range(k_start, k_end+1):\n",
    "        model.k = k\n",
    "        model.fit(X_train,Y_train)\n",
    "        score.append(\n",
    "            accuracy(model.predict(X_test), Y_test)\n",
    "        )\n",
    "\n",
    "    return score"
   ]
  },
  {
   "cell_type": "code",
   "execution_count": 571,
   "id": "327c67cd",
   "metadata": {},
   "outputs": [
    {
     "data": {
      "image/png": "[encoded data removed]",
      "text/plain": [
       "<Figure size 640x480 with 1 Axes>"
      ]
     },
     "metadata": {},
     "output_type": "display_data"
    }
   ],
   "source": [
    "K_START = 2\n",
    "K_END = 8\n",
    "\n",
    "Base_Model = AdvancedKNN(k=3)\n",
    "Base_Model_Score = Test(Base_Model, K_START, K_END)\n",
    "\n",
    "Manhanttan_Model = AdvancedKNN(k=3, p=1)\n",
    "Manhanttan_Model_Score = Test(Base_Model, K_START, K_END)\n",
    "\n",
    "Cubic_Minkowski_Model = AdvancedKNN(k=3, p=3)\n",
    "Cubic_Minkowski_Model_Score = Test(Cubic_Minkowski_Model, K_START, K_END)\n",
    "\n",
    "Weighted_KNN = AdvancedKNN(k=3, weight=0.1)\n",
    "Weighted_KNN_Score = Test(Weighted_KNN, K_START, K_END)\n",
    "\n",
    "plt.figure()\n",
    "plt.plot(np.arange(K_START, K_END+1), Base_Model_Score, label=\"Base Model\")\n",
    "plt.plot(np.arange(K_START, K_END+1), Manhanttan_Model_Score, label=\"Manhanttan Model\")\n",
    "plt.plot(np.arange(K_START, K_END+1), Cubic_Minkowski_Model_Score, label=\"Cubic Minkowski Model\")\n",
    "plt.plot(np.arange(K_START, K_END+1), Weighted_KNN_Score, label=\"Weighted KNN Model\")\n",
    "plt.xticks(np.arange(K_START, K_END+1))\n",
    "plt.legend()\n",
    "plt.xlabel(\"K\")\n",
    "plt.ylabel(\"Accuracy\")\n",
    "plt.show()"
   ]
  },
  {
   "cell_type": "markdown",
   "id": "09e4f401",
   "metadata": {},
   "source": [
    "So yeah, it seems the dataset is too small to see any real difference in the performance of these differing techniques.\n",
    "I didn't have time to find a good data set so.... yeah you're just gonna have to accept this."
   ]
  }
 ],
 "metadata": {
  "kernelspec": {
   "display_name": "Python 3",
   "language": "python",
   "name": "python3"
  },
  "language_info": {
   "codemirror_mode": {
    "name": "ipython",
    "version": 3
   },
   "file_extension": ".py",
   "mimetype": "text/x-python",
   "name": "python",
   "nbconvert_exporter": "python",
   "pygments_lexer": "ipython3",
   "version": "3.12.3"
  }
 },
 "nbformat": 4,
 "nbformat_minor": 5
}
