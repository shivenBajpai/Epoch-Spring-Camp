{
 "cells": [
  {
   "cell_type": "markdown",
   "id": "44e940b6",
   "metadata": {},
   "source": [
    "# KNN From Scratch"
   ]
  },
  {
   "cell_type": "code",
   "execution_count": 550,
   "id": "054e3af8",
   "metadata": {},
   "outputs": [],
   "source": [
    "import numpy as np\n",
    "import matplotlib.pyplot as plt"
   ]
  },
  {
   "cell_type": "code",
   "execution_count": 551,
   "id": "7ddb2a49",
   "metadata": {},
   "outputs": [],
   "source": [
    "N_CLASSES = 3\n",
    "\n",
    "raw_data = [\n",
    "    [150, 7.0, 1, 'Apple'],\n",
    "    [120, 6.5, 0, 'Banana'],\n",
    "    [180, 7.5, 2, 'Orange'],\n",
    "    [155, 7.2, 1, 'Apple'],\n",
    "    [110, 6.0, 0, 'Banana'],\n",
    "    [190, 7.8, 2, 'Orange'],\n",
    "    [145, 7.1, 1, 'Apple'],\n",
    "    [115, 6.3, 0, 'Banana']\n",
    "]"
   ]
  },
  {
   "cell_type": "markdown",
   "id": "c055d7be",
   "metadata": {},
   "source": [
    "I choose to encode my training labels as one-hot because that makes it easier to calculate the label of test point (You can just sum up the labels of the k nearest neighbours and find the index with maximum value). decoding from one-hot encoding is not required as when we take the index with the maximum count, we'll have a class number we can decode directly rather than a one-hot encoding."
   ]
  },
  {
   "cell_type": "code",
   "execution_count": 552,
   "id": "53dad647",
   "metadata": {},
   "outputs": [],
   "source": [
    "# Functions for one hot encoding/decoding\n",
    "\n",
    "# Takes a label and returns one hot encoding in a tuple\n",
    "def encode_one_hot(label):\n",
    "    match label:\n",
    "        case 'Apple': return [1, 0, 0]\n",
    "        case 'Banana': return [0, 1, 0]\n",
    "        case 'Orange': return [0, 0, 1]\n",
    "        case _: return [0,0,0]\n",
    "\n",
    "# Takes an integer and returns a label\n",
    "def decode_class_index(class_index):\n",
    "    match class_index:\n",
    "        case 0: return 'Apple'\n",
    "        case 1: return 'Banana'\n",
    "        case 2: return 'Orange'\n",
    "        case _: return \"Unknown\"\n",
    "\n",
    "# Functions for calculating distances. \n",
    "# Takes in mxk and nxk input and returns an mxn matrix of distances, kind of like a proximity matrix\n",
    "def minkowski_distance(a, b, p):\n",
    "\n",
    "    a = a[:, np.newaxis, :]\n",
    "    b = b[np.newaxis, :, :]\n",
    "\n",
    "    return (abs(a-b)**p).sum(axis=2)**(1/p)\n",
    "\n",
    "def euclidean_dist(a, b):\n",
    "    return minkowski_distance(a, b, 2)\n",
    "\n",
    "def manhattan_dist(a, b):\n",
    "    return minkowski_distance(a, b, 1)\n",
    "\n",
    "def accuracy(predictions, labels):\n",
    "    if len(labels.shape) == 1:\n",
    "        return (predictions==labels).sum()/labels.shape[0]\n",
    "    else:\n",
    "        return (predictions==labels).all(axis=1).sum()/labels.shape[0]"
   ]
  },
  {
   "cell_type": "code",
   "execution_count": 553,
   "id": "51ed6253",
   "metadata": {},
   "outputs": [],
   "source": [
    "# Data pre-processing (one-hot encoding the labels)\n",
    "encoded_data = np.array(\n",
    "    tuple((*data[:-1], *encode_one_hot(data[-1])) for data in raw_data)\n",
    ")\n",
    "\n",
    "# Splitting the labels\n",
    "X = encoded_data[:, :-3]\n",
    "Y = encoded_data[:, -3:]"
   ]
  },
  {
   "cell_type": "code",
   "execution_count": 554,
   "id": "d0a5d0a2",
   "metadata": {},
   "outputs": [],
   "source": [
    "# KNN Class definition\n",
    "class KNN:\n",
    "    def __init__(self, k):\n",
    "        self.k = k\n",
    "\n",
    "    def fit(self, X, y):\n",
    "        self.data = {\"X\": X, \"y\": y}\n",
    "\n",
    "    def predict(self, X_test):\n",
    "        distances = euclidean_dist(X_test, self.data[\"X\"])          # Calculate all the distances between every test and every training point at once.\n",
    "        sorted_indices = np.argsort(distances, axis=1)[:, :self.k]  # Find the index of K nearest neighbours in training set, for every test point\n",
    "        voters = self.data[\"y\"][sorted_indices]                     # Find the labels of the neighbours found in the previous step\n",
    "        votes = voters.sum(axis=1)                                  # Add up all the labels to essentially count votes for each test point\n",
    "        winners = np.argmax(votes, axis=1)                          # Mode of labels of K-nearest neighbours is just the max\n",
    "\n",
    "        predictions = [decode_class_index(winner) for winner in winners] # Decode all the class indices into strings\n",
    "\n",
    "        return predictions"
   ]
  },
  {
   "cell_type": "code",
   "execution_count": 555,
   "id": "ca1da80e",
   "metadata": {},
   "outputs": [
    {
     "name": "stdout",
     "output_type": "stream",
     "text": [
      "['Banana', 'Apple', 'Orange']\n",
      "accuracy: 1.0\n"
     ]
    }
   ],
   "source": [
    "test_data = np.array([\n",
    "    [118, 6.2, 0],  # Expected: Banana\n",
    "    [160, 7.3, 1],  # Expected: Apple\n",
    "    [185, 7.7, 2]   # Expected: Orange\n",
    "])\n",
    "\n",
    "true_labels = np.array([\n",
    "    \"Banana\",\n",
    "    \"Apple\",\n",
    "    \"Orange\"\n",
    "])\n",
    "\n",
    "model = KNN(k=3)\n",
    "model.fit(X,Y)\n",
    "predictions = model.predict(test_data)\n",
    "print(predictions)\n",
    "print(\"accuracy:\", accuracy(predictions, labels=true_labels))"
   ]
  },
  {
   "cell_type": "markdown",
   "id": "f34bf995",
   "metadata": {},
   "source": [
    "# Testing different strategies. (Bonus Tasks)\n",
    "\n",
    "We'll initialize different instances of the KNN with different strategies, and then compare their accuracy on an 80-20 split of the dataset over a range of values of K.\n",
    "\n",
    "For this we'll define a better implementation of the KNN classifier with more options such as different distance metrics, weighted kNNs etc. \n",
    "Additionally we'll define a helper function to test the accuracy of a model\n",
    "\n",
    "Note that I removed the color information because it had a 1 to 1 correspondance with the label and was causing all models to perform equally"
   ]
  },
  {
   "cell_type": "code",
   "execution_count": 556,
   "id": "901b0120",
   "metadata": {},
   "outputs": [],
   "source": [
    "class AdvancedKNN:\n",
    "    def __init__(self, k, distance=\"Euclidean\", weight=0, p=None):\n",
    "        self.k = k\n",
    "        self.weight = weight\n",
    "\n",
    "        if p is None:\n",
    "            match distance:\n",
    "                case 'Euclidean': self.p = 2\n",
    "                case 'Manhattan': self.p = 2\n",
    "                case _: raise Exception(\"Unknown distance type\")\n",
    "        else:\n",
    "            self.p = p\n",
    "\n",
    "    def fit(self, X, y):\n",
    "        self.data = {\"X\": X, \"y\": y}\n",
    "\n",
    "    def predict(self, X_test):\n",
    "        # Calculate all the distances between every test and every training point at once.\n",
    "        distances = minkowski_distance(X_test, self.data[\"X\"], p=self.p)\n",
    "    \n",
    "        sorted_indices = np.argsort(distances, axis=1)[:, :self.k]  # Find the index of K nearest neighbours in training set, for every test point\n",
    "        voters = self.data[\"y\"][sorted_indices].astype(np.float64)  # Find the labels of the neighbours found in the previous step\n",
    "        weights = distances[np.repeat(np.arange(distances.shape[0]), self.k), sorted_indices.flatten()].reshape(sorted_indices.shape)**self.weight\n",
    "        voters = weights[..., np.newaxis] * voters\n",
    "        votes = voters.sum(axis=1)                                  # Add up all the labels to essentially count votes for each test point\n",
    "        winners = np.argmax(votes, axis=1)                          # Mode of labels of K-nearest neighbours is just the max\n",
    "\n",
    "        predictions = np.zeros((X_test.shape[0], self.data[\"y\"].shape[1]))\n",
    "        for i, winner in enumerate(winners): predictions[i, winner] = 1\n",
    "\n",
    "        return predictions"
   ]
  },
  {
   "cell_type": "code",
   "execution_count": 557,
   "id": "41905e10",
   "metadata": {},
   "outputs": [],
   "source": [
    "def train_test_split(X, y, train_size=None, test_size=None, shuffle=True, random_state=42):\n",
    "    if test_size is None:\n",
    "        if train_size is None:\n",
    "            train_size = 0.8\n",
    "    else:\n",
    "        train_size = 1-test_size\n",
    "\n",
    "    indices = np.arange(X.shape[0])\n",
    "    cutoff = int(train_size * X.shape[0])\n",
    "\n",
    "    if shuffle: \n",
    "        np.random.seed(random_state)\n",
    "        np.random.shuffle(indices)\n",
    "\n",
    "    return X[indices[:cutoff]], X[indices[cutoff:]], y[indices[:cutoff]], y[indices[cutoff:]]"
   ]
  },
  {
   "cell_type": "code",
   "execution_count": 558,
   "id": "330798dc",
   "metadata": {},
   "outputs": [],
   "source": [
    "# New raw dataset from combining the given training and testing dataset\n",
    "data = np.array([\n",
    "    [150, 7.0, 1],\n",
    "    [120, 6.5, 0],\n",
    "    [180, 7.5, 2],\n",
    "    [155, 7.2, 1],\n",
    "    [110, 6.0, 0],\n",
    "    [190, 7.8, 2],\n",
    "    [145, 7.1, 1],\n",
    "    [115, 6.3, 0],\n",
    "    [118, 6.2, 0],  \n",
    "    [160, 7.3, 1],  \n",
    "    [185, 7.7, 2]   \n",
    "])\n",
    "\n",
    "labels = np.array([encode_one_hot(label) for label in [\n",
    "    'Apple',\n",
    "    'Banana',\n",
    "    'Orange',\n",
    "    'Apple',\n",
    "    'Banana',\n",
    "    'Orange',\n",
    "    'Apple',\n",
    "    'Banana',\n",
    "    \"Banana\",\n",
    "    \"Apple\",\n",
    "    \"Orange\",\n",
    "]])\n",
    "\n",
    "X_train, X_test, Y_train, Y_test = train_test_split(data[:-1], labels, train_size=0.8, shuffle=True)"
   ]
  },
  {
   "cell_type": "code",
   "execution_count": 559,
   "id": "7a3d52f2",
   "metadata": {},
   "outputs": [],
   "source": [
    "def Test(model, k_start=2, k_end=5):\n",
    "    score = []\n",
    "\n",
    "    for k in range(k_start, k_end+1):\n",
    "        model.k = k\n",
    "        model.fit(X_train,Y_train)\n",
    "        score.append(\n",
    "            accuracy(model.predict(X_test), Y_test)\n",
    "        )\n",
    "\n",
    "    return score"
   ]
  },
  {
   "cell_type": "code",
   "execution_count": 560,
   "id": "327c67cd",
   "metadata": {},
   "outputs": [
    {
     "data": {
      "image/png": "[encoded data removed]",
      "text/plain": [
       "<Figure size 640x480 with 1 Axes>"
      ]
     },
     "metadata": {},
     "output_type": "display_data"
    }
   ],
   "source": [
    "K_START = 2\n",
    "K_END = 5\n",
    "\n",
    "Base_Model = AdvancedKNN(k=3)\n",
    "Base_Model_Score = Test(Base_Model, K_START, K_END)\n",
    "\n",
    "Manhanttan_Model = AdvancedKNN(k=3, p=1)\n",
    "Manhanttan_Model_Score = Test(Base_Model, K_START, K_END)\n",
    "\n",
    "Cubic_Minkowski_Model = AdvancedKNN(k=3, p=3)\n",
    "Cubic_Minkowski_Model_Score = Test(Cubic_Minkowski_Model, K_START, K_END)\n",
    "\n",
    "Weighted_KNN = AdvancedKNN(k=3, weight=0.1)\n",
    "Weighted_KNN_Score = Test(Weighted_KNN, K_START, K_END)\n",
    "\n",
    "plt.figure()\n",
    "plt.plot(np.arange(K_START, K_END+1), Base_Model_Score, label=\"Base Model\")\n",
    "plt.plot(np.arange(K_START, K_END+1), Manhanttan_Model_Score, label=\"Manhanttan Model\")\n",
    "plt.plot(np.arange(K_START, K_END+1), Cubic_Minkowski_Model_Score, label=\"Cubic Minkowski Model\")\n",
    "plt.plot(np.arange(K_START, K_END+1), Weighted_KNN_Score, label=\"Weighted KNN Model\")\n",
    "plt.xticks(np.arange(K_START, K_END+1))\n",
    "plt.legend()\n",
    "plt.xlabel(\"K\")\n",
    "plt.ylabel(\"Accuracy\")\n",
    "plt.show()"
   ]
  }
 ],
 "metadata": {
  "kernelspec": {
   "display_name": "Python 3",
   "language": "python",
   "name": "python3"
  },
  "language_info": {
   "codemirror_mode": {
    "name": "ipython",
    "version": 3
   },
   "file_extension": ".py",
   "mimetype": "text/x-python",
   "name": "python",
   "nbconvert_exporter": "python",
   "pygments_lexer": "ipython3",
   "version": "3.12.3"
  }
 },
 "nbformat": 4,
 "nbformat_minor": 5
}
